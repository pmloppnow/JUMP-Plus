{
  "nbformat": 4,
  "nbformat_minor": 0,
  "metadata": {
    "colab": {
      "provenance": [],
      "authorship_tag": "ABX9TyNSWC4u8tt8aRcGqYlvC0a0"
    },
    "kernelspec": {
      "name": "python3",
      "display_name": "Python 3"
    },
    "language_info": {
      "name": "python"
    }
  },
  "cells": [
    {
      "cell_type": "markdown",
      "source": [
        "1. Import all required libraries"
      ],
      "metadata": {
        "id": "zdPZo6KeEcIY"
      }
    },
    {
      "cell_type": "code",
      "source": [
        "import pandas as pd\n",
        "import seaborn as sns\n",
        "import matplotlib.pyplot as plt"
      ],
      "metadata": {
        "id": "OIqhQtwbCHK1"
      },
      "execution_count": 1,
      "outputs": []
    },
    {
      "cell_type": "markdown",
      "source": [
        "2. Read the csv file and if you experience ‘unicodedecodeerror’ then set the second parameter in read_csv method to ‘encoding=iso-8859-1’"
      ],
      "metadata": {
        "id": "HHCwPjQ1Ejr2"
      }
    },
    {
      "cell_type": "code",
      "source": [
        "fires = pd.read_csv(\"amazon.csv\")"
      ],
      "metadata": {
        "id": "AMZkGvJTCNW1"
      },
      "execution_count": 2,
      "outputs": []
    },
    {
      "cell_type": "markdown",
      "source": [
        "3. Check data type of each column\n",
        "\n",
        "a. Find what the type of the ‘date’ column is"
      ],
      "metadata": {
        "id": "L5TeZBNGExBK"
      }
    },
    {
      "cell_type": "code",
      "source": [
        "fires.date.dtype"
      ],
      "metadata": {
        "colab": {
          "base_uri": "https://localhost:8080/"
        },
        "id": "VkRKsUYkEGyM",
        "outputId": "6d39de22-eb42-467f-b107-79f280bec2b2"
      },
      "execution_count": 3,
      "outputs": [
        {
          "output_type": "execute_result",
          "data": {
            "text/plain": [
              "dtype('O')"
            ]
          },
          "metadata": {},
          "execution_count": 3
        }
      ]
    },
    {
      "cell_type": "markdown",
      "source": [
        "b. If it is of ‘object’ type, we need to convert the type into datetime"
      ],
      "metadata": {
        "id": "1iDEPfAkFDMU"
      }
    },
    {
      "cell_type": "markdown",
      "source": [
        "c. For conversion you need to make changes again in the read_csv\n",
        "method, put third parameter into it for parsing dates "
      ],
      "metadata": {
        "id": "tjLvA74VF6Bd"
      }
    },
    {
      "cell_type": "code",
      "source": [
        "fires = pd.read_csv(\"amazon.csv\", parse_dates = [\"date\"])"
      ],
      "metadata": {
        "id": "BKlmlm-6F703"
      },
      "execution_count": 4,
      "outputs": []
    },
    {
      "cell_type": "markdown",
      "source": [
        "d. Please check after making changes what is the data type of date\n",
        "column is (it should be datetime)"
      ],
      "metadata": {
        "id": "aGtxOUWaF-qY"
      }
    },
    {
      "cell_type": "code",
      "source": [
        "fires.dtypes"
      ],
      "metadata": {
        "colab": {
          "base_uri": "https://localhost:8080/"
        },
        "id": "-my0te2IGAuv",
        "outputId": "6c1f34a4-4156-4c67-d4a4-1afa347cca6b"
      },
      "execution_count": 5,
      "outputs": [
        {
          "output_type": "execute_result",
          "data": {
            "text/plain": [
              "year               int64\n",
              "state             object\n",
              "month             object\n",
              "number           float64\n",
              "date      datetime64[ns]\n",
              "dtype: object"
            ]
          },
          "metadata": {},
          "execution_count": 5
        }
      ]
    },
    {
      "cell_type": "code",
      "source": [
        "# Cast number to an int, since partial fires don't make much sense.\n",
        "fires[\"number\"] = fires[\"number\"].astype(\"int64\")\n",
        "fires.dtypes"
      ],
      "metadata": {
        "colab": {
          "base_uri": "https://localhost:8080/"
        },
        "id": "L2pEbfK1mZsO",
        "outputId": "af7be98d-72ea-44cf-8e7e-5909292a5aa1"
      },
      "execution_count": 6,
      "outputs": [
        {
          "output_type": "execute_result",
          "data": {
            "text/plain": [
              "year               int64\n",
              "state             object\n",
              "month             object\n",
              "number             int64\n",
              "date      datetime64[ns]\n",
              "dtype: object"
            ]
          },
          "metadata": {},
          "execution_count": 6
        }
      ]
    },
    {
      "cell_type": "markdown",
      "source": [
        "4. Display top 5 rows of the dataset."
      ],
      "metadata": {
        "id": "wL0AN29kGBR1"
      }
    },
    {
      "cell_type": "code",
      "source": [
        "fires.head()"
      ],
      "metadata": {
        "colab": {
          "base_uri": "https://localhost:8080/",
          "height": 206
        },
        "id": "Pip7SWtxGEt2",
        "outputId": "4655bff7-ffdd-42b4-8312-2fb16c1a3095"
      },
      "execution_count": 7,
      "outputs": [
        {
          "output_type": "execute_result",
          "data": {
            "text/plain": [
              "   year state    month  number       date\n",
              "0  1998  Acre  Janeiro       0 1998-01-01\n",
              "1  1999  Acre  Janeiro       0 1999-01-01\n",
              "2  2000  Acre  Janeiro       0 2000-01-01\n",
              "3  2001  Acre  Janeiro       0 2001-01-01\n",
              "4  2002  Acre  Janeiro       0 2002-01-01"
            ],
            "text/html": [
              "\n",
              "  <div id=\"df-e849b813-1972-48bd-be1f-e73da9773eab\">\n",
              "    <div class=\"colab-df-container\">\n",
              "      <div>\n",
              "<style scoped>\n",
              "    .dataframe tbody tr th:only-of-type {\n",
              "        vertical-align: middle;\n",
              "    }\n",
              "\n",
              "    .dataframe tbody tr th {\n",
              "        vertical-align: top;\n",
              "    }\n",
              "\n",
              "    .dataframe thead th {\n",
              "        text-align: right;\n",
              "    }\n",
              "</style>\n",
              "<table border=\"1\" class=\"dataframe\">\n",
              "  <thead>\n",
              "    <tr style=\"text-align: right;\">\n",
              "      <th></th>\n",
              "      <th>year</th>\n",
              "      <th>state</th>\n",
              "      <th>month</th>\n",
              "      <th>number</th>\n",
              "      <th>date</th>\n",
              "    </tr>\n",
              "  </thead>\n",
              "  <tbody>\n",
              "    <tr>\n",
              "      <th>0</th>\n",
              "      <td>1998</td>\n",
              "      <td>Acre</td>\n",
              "      <td>Janeiro</td>\n",
              "      <td>0</td>\n",
              "      <td>1998-01-01</td>\n",
              "    </tr>\n",
              "    <tr>\n",
              "      <th>1</th>\n",
              "      <td>1999</td>\n",
              "      <td>Acre</td>\n",
              "      <td>Janeiro</td>\n",
              "      <td>0</td>\n",
              "      <td>1999-01-01</td>\n",
              "    </tr>\n",
              "    <tr>\n",
              "      <th>2</th>\n",
              "      <td>2000</td>\n",
              "      <td>Acre</td>\n",
              "      <td>Janeiro</td>\n",
              "      <td>0</td>\n",
              "      <td>2000-01-01</td>\n",
              "    </tr>\n",
              "    <tr>\n",
              "      <th>3</th>\n",
              "      <td>2001</td>\n",
              "      <td>Acre</td>\n",
              "      <td>Janeiro</td>\n",
              "      <td>0</td>\n",
              "      <td>2001-01-01</td>\n",
              "    </tr>\n",
              "    <tr>\n",
              "      <th>4</th>\n",
              "      <td>2002</td>\n",
              "      <td>Acre</td>\n",
              "      <td>Janeiro</td>\n",
              "      <td>0</td>\n",
              "      <td>2002-01-01</td>\n",
              "    </tr>\n",
              "  </tbody>\n",
              "</table>\n",
              "</div>\n",
              "      <button class=\"colab-df-convert\" onclick=\"convertToInteractive('df-e849b813-1972-48bd-be1f-e73da9773eab')\"\n",
              "              title=\"Convert this dataframe to an interactive table.\"\n",
              "              style=\"display:none;\">\n",
              "        \n",
              "  <svg xmlns=\"http://www.w3.org/2000/svg\" height=\"24px\"viewBox=\"0 0 24 24\"\n",
              "       width=\"24px\">\n",
              "    <path d=\"M0 0h24v24H0V0z\" fill=\"none\"/>\n",
              "    <path d=\"M18.56 5.44l.94 2.06.94-2.06 2.06-.94-2.06-.94-.94-2.06-.94 2.06-2.06.94zm-11 1L8.5 8.5l.94-2.06 2.06-.94-2.06-.94L8.5 2.5l-.94 2.06-2.06.94zm10 10l.94 2.06.94-2.06 2.06-.94-2.06-.94-.94-2.06-.94 2.06-2.06.94z\"/><path d=\"M17.41 7.96l-1.37-1.37c-.4-.4-.92-.59-1.43-.59-.52 0-1.04.2-1.43.59L10.3 9.45l-7.72 7.72c-.78.78-.78 2.05 0 2.83L4 21.41c.39.39.9.59 1.41.59.51 0 1.02-.2 1.41-.59l7.78-7.78 2.81-2.81c.8-.78.8-2.07 0-2.86zM5.41 20L4 18.59l7.72-7.72 1.47 1.35L5.41 20z\"/>\n",
              "  </svg>\n",
              "      </button>\n",
              "      \n",
              "  <style>\n",
              "    .colab-df-container {\n",
              "      display:flex;\n",
              "      flex-wrap:wrap;\n",
              "      gap: 12px;\n",
              "    }\n",
              "\n",
              "    .colab-df-convert {\n",
              "      background-color: #E8F0FE;\n",
              "      border: none;\n",
              "      border-radius: 50%;\n",
              "      cursor: pointer;\n",
              "      display: none;\n",
              "      fill: #1967D2;\n",
              "      height: 32px;\n",
              "      padding: 0 0 0 0;\n",
              "      width: 32px;\n",
              "    }\n",
              "\n",
              "    .colab-df-convert:hover {\n",
              "      background-color: #E2EBFA;\n",
              "      box-shadow: 0px 1px 2px rgba(60, 64, 67, 0.3), 0px 1px 3px 1px rgba(60, 64, 67, 0.15);\n",
              "      fill: #174EA6;\n",
              "    }\n",
              "\n",
              "    [theme=dark] .colab-df-convert {\n",
              "      background-color: #3B4455;\n",
              "      fill: #D2E3FC;\n",
              "    }\n",
              "\n",
              "    [theme=dark] .colab-df-convert:hover {\n",
              "      background-color: #434B5C;\n",
              "      box-shadow: 0px 1px 3px 1px rgba(0, 0, 0, 0.15);\n",
              "      filter: drop-shadow(0px 1px 2px rgba(0, 0, 0, 0.3));\n",
              "      fill: #FFFFFF;\n",
              "    }\n",
              "  </style>\n",
              "\n",
              "      <script>\n",
              "        const buttonEl =\n",
              "          document.querySelector('#df-e849b813-1972-48bd-be1f-e73da9773eab button.colab-df-convert');\n",
              "        buttonEl.style.display =\n",
              "          google.colab.kernel.accessAllowed ? 'block' : 'none';\n",
              "\n",
              "        async function convertToInteractive(key) {\n",
              "          const element = document.querySelector('#df-e849b813-1972-48bd-be1f-e73da9773eab');\n",
              "          const dataTable =\n",
              "            await google.colab.kernel.invokeFunction('convertToInteractive',\n",
              "                                                     [key], {});\n",
              "          if (!dataTable) return;\n",
              "\n",
              "          const docLinkHtml = 'Like what you see? Visit the ' +\n",
              "            '<a target=\"_blank\" href=https://colab.research.google.com/notebooks/data_table.ipynb>data table notebook</a>'\n",
              "            + ' to learn more about interactive tables.';\n",
              "          element.innerHTML = '';\n",
              "          dataTable['output_type'] = 'display_data';\n",
              "          await google.colab.output.renderOutput(dataTable, element);\n",
              "          const docLink = document.createElement('div');\n",
              "          docLink.innerHTML = docLinkHtml;\n",
              "          element.appendChild(docLink);\n",
              "        }\n",
              "      </script>\n",
              "    </div>\n",
              "  </div>\n",
              "  "
            ]
          },
          "metadata": {},
          "execution_count": 7
        }
      ]
    },
    {
      "cell_type": "markdown",
      "source": [
        "5. Check the last 5 rows."
      ],
      "metadata": {
        "id": "y0UKmTEtGHkZ"
      }
    },
    {
      "cell_type": "code",
      "source": [
        "fires.tail()"
      ],
      "metadata": {
        "colab": {
          "base_uri": "https://localhost:8080/",
          "height": 206
        },
        "id": "NWe6auJRGNby",
        "outputId": "e98085da-0723-4f6b-d083-ef822c647d32"
      },
      "execution_count": 8,
      "outputs": [
        {
          "output_type": "execute_result",
          "data": {
            "text/plain": [
              "      year      state     month  number       date\n",
              "6449  2012  Tocantins  Dezembro     128 2012-01-01\n",
              "6450  2013  Tocantins  Dezembro      85 2013-01-01\n",
              "6451  2014  Tocantins  Dezembro     223 2014-01-01\n",
              "6452  2015  Tocantins  Dezembro     373 2015-01-01\n",
              "6453  2016  Tocantins  Dezembro     119 2016-01-01"
            ],
            "text/html": [
              "\n",
              "  <div id=\"df-e183a1b8-0c52-4f59-b619-d927623c6e1b\">\n",
              "    <div class=\"colab-df-container\">\n",
              "      <div>\n",
              "<style scoped>\n",
              "    .dataframe tbody tr th:only-of-type {\n",
              "        vertical-align: middle;\n",
              "    }\n",
              "\n",
              "    .dataframe tbody tr th {\n",
              "        vertical-align: top;\n",
              "    }\n",
              "\n",
              "    .dataframe thead th {\n",
              "        text-align: right;\n",
              "    }\n",
              "</style>\n",
              "<table border=\"1\" class=\"dataframe\">\n",
              "  <thead>\n",
              "    <tr style=\"text-align: right;\">\n",
              "      <th></th>\n",
              "      <th>year</th>\n",
              "      <th>state</th>\n",
              "      <th>month</th>\n",
              "      <th>number</th>\n",
              "      <th>date</th>\n",
              "    </tr>\n",
              "  </thead>\n",
              "  <tbody>\n",
              "    <tr>\n",
              "      <th>6449</th>\n",
              "      <td>2012</td>\n",
              "      <td>Tocantins</td>\n",
              "      <td>Dezembro</td>\n",
              "      <td>128</td>\n",
              "      <td>2012-01-01</td>\n",
              "    </tr>\n",
              "    <tr>\n",
              "      <th>6450</th>\n",
              "      <td>2013</td>\n",
              "      <td>Tocantins</td>\n",
              "      <td>Dezembro</td>\n",
              "      <td>85</td>\n",
              "      <td>2013-01-01</td>\n",
              "    </tr>\n",
              "    <tr>\n",
              "      <th>6451</th>\n",
              "      <td>2014</td>\n",
              "      <td>Tocantins</td>\n",
              "      <td>Dezembro</td>\n",
              "      <td>223</td>\n",
              "      <td>2014-01-01</td>\n",
              "    </tr>\n",
              "    <tr>\n",
              "      <th>6452</th>\n",
              "      <td>2015</td>\n",
              "      <td>Tocantins</td>\n",
              "      <td>Dezembro</td>\n",
              "      <td>373</td>\n",
              "      <td>2015-01-01</td>\n",
              "    </tr>\n",
              "    <tr>\n",
              "      <th>6453</th>\n",
              "      <td>2016</td>\n",
              "      <td>Tocantins</td>\n",
              "      <td>Dezembro</td>\n",
              "      <td>119</td>\n",
              "      <td>2016-01-01</td>\n",
              "    </tr>\n",
              "  </tbody>\n",
              "</table>\n",
              "</div>\n",
              "      <button class=\"colab-df-convert\" onclick=\"convertToInteractive('df-e183a1b8-0c52-4f59-b619-d927623c6e1b')\"\n",
              "              title=\"Convert this dataframe to an interactive table.\"\n",
              "              style=\"display:none;\">\n",
              "        \n",
              "  <svg xmlns=\"http://www.w3.org/2000/svg\" height=\"24px\"viewBox=\"0 0 24 24\"\n",
              "       width=\"24px\">\n",
              "    <path d=\"M0 0h24v24H0V0z\" fill=\"none\"/>\n",
              "    <path d=\"M18.56 5.44l.94 2.06.94-2.06 2.06-.94-2.06-.94-.94-2.06-.94 2.06-2.06.94zm-11 1L8.5 8.5l.94-2.06 2.06-.94-2.06-.94L8.5 2.5l-.94 2.06-2.06.94zm10 10l.94 2.06.94-2.06 2.06-.94-2.06-.94-.94-2.06-.94 2.06-2.06.94z\"/><path d=\"M17.41 7.96l-1.37-1.37c-.4-.4-.92-.59-1.43-.59-.52 0-1.04.2-1.43.59L10.3 9.45l-7.72 7.72c-.78.78-.78 2.05 0 2.83L4 21.41c.39.39.9.59 1.41.59.51 0 1.02-.2 1.41-.59l7.78-7.78 2.81-2.81c.8-.78.8-2.07 0-2.86zM5.41 20L4 18.59l7.72-7.72 1.47 1.35L5.41 20z\"/>\n",
              "  </svg>\n",
              "      </button>\n",
              "      \n",
              "  <style>\n",
              "    .colab-df-container {\n",
              "      display:flex;\n",
              "      flex-wrap:wrap;\n",
              "      gap: 12px;\n",
              "    }\n",
              "\n",
              "    .colab-df-convert {\n",
              "      background-color: #E8F0FE;\n",
              "      border: none;\n",
              "      border-radius: 50%;\n",
              "      cursor: pointer;\n",
              "      display: none;\n",
              "      fill: #1967D2;\n",
              "      height: 32px;\n",
              "      padding: 0 0 0 0;\n",
              "      width: 32px;\n",
              "    }\n",
              "\n",
              "    .colab-df-convert:hover {\n",
              "      background-color: #E2EBFA;\n",
              "      box-shadow: 0px 1px 2px rgba(60, 64, 67, 0.3), 0px 1px 3px 1px rgba(60, 64, 67, 0.15);\n",
              "      fill: #174EA6;\n",
              "    }\n",
              "\n",
              "    [theme=dark] .colab-df-convert {\n",
              "      background-color: #3B4455;\n",
              "      fill: #D2E3FC;\n",
              "    }\n",
              "\n",
              "    [theme=dark] .colab-df-convert:hover {\n",
              "      background-color: #434B5C;\n",
              "      box-shadow: 0px 1px 3px 1px rgba(0, 0, 0, 0.15);\n",
              "      filter: drop-shadow(0px 1px 2px rgba(0, 0, 0, 0.3));\n",
              "      fill: #FFFFFF;\n",
              "    }\n",
              "  </style>\n",
              "\n",
              "      <script>\n",
              "        const buttonEl =\n",
              "          document.querySelector('#df-e183a1b8-0c52-4f59-b619-d927623c6e1b button.colab-df-convert');\n",
              "        buttonEl.style.display =\n",
              "          google.colab.kernel.accessAllowed ? 'block' : 'none';\n",
              "\n",
              "        async function convertToInteractive(key) {\n",
              "          const element = document.querySelector('#df-e183a1b8-0c52-4f59-b619-d927623c6e1b');\n",
              "          const dataTable =\n",
              "            await google.colab.kernel.invokeFunction('convertToInteractive',\n",
              "                                                     [key], {});\n",
              "          if (!dataTable) return;\n",
              "\n",
              "          const docLinkHtml = 'Like what you see? Visit the ' +\n",
              "            '<a target=\"_blank\" href=https://colab.research.google.com/notebooks/data_table.ipynb>data table notebook</a>'\n",
              "            + ' to learn more about interactive tables.';\n",
              "          element.innerHTML = '';\n",
              "          dataTable['output_type'] = 'display_data';\n",
              "          await google.colab.output.renderOutput(dataTable, element);\n",
              "          const docLink = document.createElement('div');\n",
              "          docLink.innerHTML = docLinkHtml;\n",
              "          element.appendChild(docLink);\n",
              "        }\n",
              "      </script>\n",
              "    </div>\n",
              "  </div>\n",
              "  "
            ]
          },
          "metadata": {},
          "execution_count": 8
        }
      ]
    },
    {
      "cell_type": "markdown",
      "source": [
        "6. Find the shape of our dataset (number of rows and number of columns).\n",
        "\n",
        "a. Print the number of rows and columns separately"
      ],
      "metadata": {
        "id": "l4-WxRGuGXkU"
      }
    },
    {
      "cell_type": "code",
      "source": [
        "print(f\"There are {fires.shape[0]} rows.\")\n",
        "print(f\"There are {fires.shape[1]} columns.\")"
      ],
      "metadata": {
        "colab": {
          "base_uri": "https://localhost:8080/"
        },
        "id": "DbWMwWbuGWla",
        "outputId": "6c58e734-b882-4493-9a77-a250d9a4cf6a"
      },
      "execution_count": 9,
      "outputs": [
        {
          "output_type": "stream",
          "name": "stdout",
          "text": [
            "There are 6454 rows.\n",
            "There are 5 columns.\n"
          ]
        }
      ]
    },
    {
      "cell_type": "markdown",
      "source": [
        "7. Getting information about our dataset like total number rows, total number of columns, datatypes of each column and memory requirement."
      ],
      "metadata": {
        "id": "YMgZqiYnGtJm"
      }
    },
    {
      "cell_type": "code",
      "source": [
        "fires.info()"
      ],
      "metadata": {
        "colab": {
          "base_uri": "https://localhost:8080/"
        },
        "id": "QLKZT56LG1nS",
        "outputId": "c4b5cbdc-e468-4446-bc8c-351ba913afb7"
      },
      "execution_count": 10,
      "outputs": [
        {
          "output_type": "stream",
          "name": "stdout",
          "text": [
            "<class 'pandas.core.frame.DataFrame'>\n",
            "RangeIndex: 6454 entries, 0 to 6453\n",
            "Data columns (total 5 columns):\n",
            " #   Column  Non-Null Count  Dtype         \n",
            "---  ------  --------------  -----         \n",
            " 0   year    6454 non-null   int64         \n",
            " 1   state   6454 non-null   object        \n",
            " 2   month   6454 non-null   object        \n",
            " 3   number  6454 non-null   int64         \n",
            " 4   date    6454 non-null   datetime64[ns]\n",
            "dtypes: datetime64[ns](1), int64(2), object(2)\n",
            "memory usage: 252.2+ KB\n"
          ]
        }
      ]
    },
    {
      "cell_type": "markdown",
      "source": [
        "8. Check for duplicate data and drop them.\n",
        "\n",
        "a. You can use duplicated () method"
      ],
      "metadata": {
        "id": "FrwbPqzcG17g"
      }
    },
    {
      "cell_type": "code",
      "source": [
        "duplicates = fires.duplicated()\n",
        "duplicates.value_counts()"
      ],
      "metadata": {
        "colab": {
          "base_uri": "https://localhost:8080/"
        },
        "id": "C8RYABs8G7sn",
        "outputId": "267a481d-2286-480f-e04d-ccdb9dc4df37"
      },
      "execution_count": 11,
      "outputs": [
        {
          "output_type": "execute_result",
          "data": {
            "text/plain": [
              "False    6421\n",
              "True       33\n",
              "dtype: int64"
            ]
          },
          "metadata": {},
          "execution_count": 11
        }
      ]
    },
    {
      "cell_type": "markdown",
      "source": [
        "b. Please mention how many duplicate values are removed"
      ],
      "metadata": {
        "id": "B5NILb5ZG98g"
      }
    },
    {
      "cell_type": "code",
      "source": [
        "fires = fires[~duplicates]\n",
        "len(fires)"
      ],
      "metadata": {
        "colab": {
          "base_uri": "https://localhost:8080/"
        },
        "id": "NYbtfi0eG9bd",
        "outputId": "244a1d54-ed84-4eed-ee51-6630d13a7c19"
      },
      "execution_count": 12,
      "outputs": [
        {
          "output_type": "execute_result",
          "data": {
            "text/plain": [
              "6421"
            ]
          },
          "metadata": {},
          "execution_count": 12
        }
      ]
    },
    {
      "cell_type": "markdown",
      "source": [
        "9. Check null values in the dataset.\n",
        "\n",
        "a. Please add a comment if you find any null value"
      ],
      "metadata": {
        "id": "sueThmSrHBAs"
      }
    },
    {
      "cell_type": "code",
      "source": [
        "fires.isnull().any()"
      ],
      "metadata": {
        "colab": {
          "base_uri": "https://localhost:8080/"
        },
        "id": "xnB7agdJHBzJ",
        "outputId": "899263e0-8429-47ae-cce4-d32e9aaa03ea"
      },
      "execution_count": 13,
      "outputs": [
        {
          "output_type": "execute_result",
          "data": {
            "text/plain": [
              "year      False\n",
              "state     False\n",
              "month     False\n",
              "number    False\n",
              "date      False\n",
              "dtype: bool"
            ]
          },
          "metadata": {},
          "execution_count": 13
        }
      ]
    },
    {
      "cell_type": "markdown",
      "source": [
        "10. Get overall statistics about the data frame.\n",
        "\n",
        "a. Here you will find that you are getting only numeric columns"
      ],
      "metadata": {
        "id": "qtFANIMlHHll"
      }
    },
    {
      "cell_type": "code",
      "source": [
        "fires.describe()"
      ],
      "metadata": {
        "colab": {
          "base_uri": "https://localhost:8080/",
          "height": 300
        },
        "id": "tFyVuD2wHNZV",
        "outputId": "6a89b010-d2c2-48b1-ebec-490281607096"
      },
      "execution_count": 14,
      "outputs": [
        {
          "output_type": "execute_result",
          "data": {
            "text/plain": [
              "              year       number\n",
              "count  6421.000000  6421.000000\n",
              "mean   2007.490734   108.773867\n",
              "std       5.732222   191.184606\n",
              "min    1998.000000     0.000000\n",
              "25%    2003.000000     3.000000\n",
              "50%    2007.000000    24.000000\n",
              "75%    2012.000000   114.000000\n",
              "max    2017.000000   998.000000"
            ],
            "text/html": [
              "\n",
              "  <div id=\"df-95c049d9-2d13-44ca-91e6-ee9f71ce2490\">\n",
              "    <div class=\"colab-df-container\">\n",
              "      <div>\n",
              "<style scoped>\n",
              "    .dataframe tbody tr th:only-of-type {\n",
              "        vertical-align: middle;\n",
              "    }\n",
              "\n",
              "    .dataframe tbody tr th {\n",
              "        vertical-align: top;\n",
              "    }\n",
              "\n",
              "    .dataframe thead th {\n",
              "        text-align: right;\n",
              "    }\n",
              "</style>\n",
              "<table border=\"1\" class=\"dataframe\">\n",
              "  <thead>\n",
              "    <tr style=\"text-align: right;\">\n",
              "      <th></th>\n",
              "      <th>year</th>\n",
              "      <th>number</th>\n",
              "    </tr>\n",
              "  </thead>\n",
              "  <tbody>\n",
              "    <tr>\n",
              "      <th>count</th>\n",
              "      <td>6421.000000</td>\n",
              "      <td>6421.000000</td>\n",
              "    </tr>\n",
              "    <tr>\n",
              "      <th>mean</th>\n",
              "      <td>2007.490734</td>\n",
              "      <td>108.773867</td>\n",
              "    </tr>\n",
              "    <tr>\n",
              "      <th>std</th>\n",
              "      <td>5.732222</td>\n",
              "      <td>191.184606</td>\n",
              "    </tr>\n",
              "    <tr>\n",
              "      <th>min</th>\n",
              "      <td>1998.000000</td>\n",
              "      <td>0.000000</td>\n",
              "    </tr>\n",
              "    <tr>\n",
              "      <th>25%</th>\n",
              "      <td>2003.000000</td>\n",
              "      <td>3.000000</td>\n",
              "    </tr>\n",
              "    <tr>\n",
              "      <th>50%</th>\n",
              "      <td>2007.000000</td>\n",
              "      <td>24.000000</td>\n",
              "    </tr>\n",
              "    <tr>\n",
              "      <th>75%</th>\n",
              "      <td>2012.000000</td>\n",
              "      <td>114.000000</td>\n",
              "    </tr>\n",
              "    <tr>\n",
              "      <th>max</th>\n",
              "      <td>2017.000000</td>\n",
              "      <td>998.000000</td>\n",
              "    </tr>\n",
              "  </tbody>\n",
              "</table>\n",
              "</div>\n",
              "      <button class=\"colab-df-convert\" onclick=\"convertToInteractive('df-95c049d9-2d13-44ca-91e6-ee9f71ce2490')\"\n",
              "              title=\"Convert this dataframe to an interactive table.\"\n",
              "              style=\"display:none;\">\n",
              "        \n",
              "  <svg xmlns=\"http://www.w3.org/2000/svg\" height=\"24px\"viewBox=\"0 0 24 24\"\n",
              "       width=\"24px\">\n",
              "    <path d=\"M0 0h24v24H0V0z\" fill=\"none\"/>\n",
              "    <path d=\"M18.56 5.44l.94 2.06.94-2.06 2.06-.94-2.06-.94-.94-2.06-.94 2.06-2.06.94zm-11 1L8.5 8.5l.94-2.06 2.06-.94-2.06-.94L8.5 2.5l-.94 2.06-2.06.94zm10 10l.94 2.06.94-2.06 2.06-.94-2.06-.94-.94-2.06-.94 2.06-2.06.94z\"/><path d=\"M17.41 7.96l-1.37-1.37c-.4-.4-.92-.59-1.43-.59-.52 0-1.04.2-1.43.59L10.3 9.45l-7.72 7.72c-.78.78-.78 2.05 0 2.83L4 21.41c.39.39.9.59 1.41.59.51 0 1.02-.2 1.41-.59l7.78-7.78 2.81-2.81c.8-.78.8-2.07 0-2.86zM5.41 20L4 18.59l7.72-7.72 1.47 1.35L5.41 20z\"/>\n",
              "  </svg>\n",
              "      </button>\n",
              "      \n",
              "  <style>\n",
              "    .colab-df-container {\n",
              "      display:flex;\n",
              "      flex-wrap:wrap;\n",
              "      gap: 12px;\n",
              "    }\n",
              "\n",
              "    .colab-df-convert {\n",
              "      background-color: #E8F0FE;\n",
              "      border: none;\n",
              "      border-radius: 50%;\n",
              "      cursor: pointer;\n",
              "      display: none;\n",
              "      fill: #1967D2;\n",
              "      height: 32px;\n",
              "      padding: 0 0 0 0;\n",
              "      width: 32px;\n",
              "    }\n",
              "\n",
              "    .colab-df-convert:hover {\n",
              "      background-color: #E2EBFA;\n",
              "      box-shadow: 0px 1px 2px rgba(60, 64, 67, 0.3), 0px 1px 3px 1px rgba(60, 64, 67, 0.15);\n",
              "      fill: #174EA6;\n",
              "    }\n",
              "\n",
              "    [theme=dark] .colab-df-convert {\n",
              "      background-color: #3B4455;\n",
              "      fill: #D2E3FC;\n",
              "    }\n",
              "\n",
              "    [theme=dark] .colab-df-convert:hover {\n",
              "      background-color: #434B5C;\n",
              "      box-shadow: 0px 1px 3px 1px rgba(0, 0, 0, 0.15);\n",
              "      filter: drop-shadow(0px 1px 2px rgba(0, 0, 0, 0.3));\n",
              "      fill: #FFFFFF;\n",
              "    }\n",
              "  </style>\n",
              "\n",
              "      <script>\n",
              "        const buttonEl =\n",
              "          document.querySelector('#df-95c049d9-2d13-44ca-91e6-ee9f71ce2490 button.colab-df-convert');\n",
              "        buttonEl.style.display =\n",
              "          google.colab.kernel.accessAllowed ? 'block' : 'none';\n",
              "\n",
              "        async function convertToInteractive(key) {\n",
              "          const element = document.querySelector('#df-95c049d9-2d13-44ca-91e6-ee9f71ce2490');\n",
              "          const dataTable =\n",
              "            await google.colab.kernel.invokeFunction('convertToInteractive',\n",
              "                                                     [key], {});\n",
              "          if (!dataTable) return;\n",
              "\n",
              "          const docLinkHtml = 'Like what you see? Visit the ' +\n",
              "            '<a target=\"_blank\" href=https://colab.research.google.com/notebooks/data_table.ipynb>data table notebook</a>'\n",
              "            + ' to learn more about interactive tables.';\n",
              "          element.innerHTML = '';\n",
              "          dataTable['output_type'] = 'display_data';\n",
              "          await google.colab.output.renderOutput(dataTable, element);\n",
              "          const docLink = document.createElement('div');\n",
              "          docLink.innerHTML = docLinkHtml;\n",
              "          element.appendChild(docLink);\n",
              "        }\n",
              "      </script>\n",
              "    </div>\n",
              "  </div>\n",
              "  "
            ]
          },
          "metadata": {},
          "execution_count": 14
        }
      ]
    },
    {
      "cell_type": "markdown",
      "source": [
        "b. Show categorical columns as well, if you get a warning,\n",
        " add extra parameters in the method."
      ],
      "metadata": {
        "id": "E-XjrWbTHOC7"
      }
    },
    {
      "cell_type": "code",
      "source": [
        "fires.state.value_counts()"
      ],
      "metadata": {
        "colab": {
          "base_uri": "https://localhost:8080/"
        },
        "id": "DhxcWDUcHbbL",
        "outputId": "fc189f27-071b-4f3c-a5f3-3758dc51cfaf"
      },
      "execution_count": 15,
      "outputs": [
        {
          "output_type": "execute_result",
          "data": {
            "text/plain": [
              "Rio                 696\n",
              "Mato Grosso         473\n",
              "Paraiba             472\n",
              "Acre                239\n",
              "Par�                239\n",
              "Sergipe             239\n",
              "Sao Paulo           239\n",
              "Santa Catarina      239\n",
              "Roraima             239\n",
              "Rondonia            239\n",
              "Piau                239\n",
              "Pernambuco          239\n",
              "Minas Gerais        239\n",
              "Alagoas             239\n",
              "Maranhao            239\n",
              "Goias               239\n",
              "Espirito Santo      239\n",
              "Distrito Federal    239\n",
              "Ceara               239\n",
              "Bahia               239\n",
              "Amazonas            239\n",
              "Amapa               239\n",
              "Tocantins           239\n",
              "Name: state, dtype: int64"
            ]
          },
          "metadata": {},
          "execution_count": 15
        }
      ]
    },
    {
      "cell_type": "code",
      "source": [
        "fires.month.value_counts()"
      ],
      "metadata": {
        "colab": {
          "base_uri": "https://localhost:8080/"
        },
        "id": "V60hYyQxR2Dg",
        "outputId": "82f99d37-d40b-424f-a64c-94d4af911bb6"
      },
      "execution_count": 16,
      "outputs": [
        {
          "output_type": "execute_result",
          "data": {
            "text/plain": [
              "Setembro     540\n",
              "Outubro      540\n",
              "Novembro     540\n",
              "Junho        539\n",
              "Julho        539\n",
              "Agosto       539\n",
              "Janeiro      535\n",
              "Fevereiro    535\n",
              "Mar�o        534\n",
              "Abril        534\n",
              "Maio         533\n",
              "Dezembro     513\n",
              "Name: month, dtype: int64"
            ]
          },
          "metadata": {},
          "execution_count": 16
        }
      ]
    },
    {
      "cell_type": "markdown",
      "source": [
        "11. Rename month names to English."
      ],
      "metadata": {
        "id": "q3drKMvGHbxA"
      }
    },
    {
      "cell_type": "code",
      "source": [
        "fires[\"month\"] = fires[\"month\"].replace({\"Janeiro\": \"January\", \"Fevereiro\": \"February\", \"Mar�o\": \"March\", \"Abril\": \"April\", \"Maio\": \"May\", \"Junho\": \"June\", \n",
        "                      \"Julho\": \"July\", \"Agosto\": \"August\", \"Setembro\": \"September\", \"Outubro\": \"October\", \"Novembro\": \"November\", \"Dezembro\": \"December\"})\n",
        "fires.month.value_counts()"
      ],
      "metadata": {
        "colab": {
          "base_uri": "https://localhost:8080/"
        },
        "id": "R_A-3_H6Hgxa",
        "outputId": "7e014d90-2a02-4a6b-b76d-2f1e709c561d"
      },
      "execution_count": 17,
      "outputs": [
        {
          "output_type": "execute_result",
          "data": {
            "text/plain": [
              "September    540\n",
              "October      540\n",
              "November     540\n",
              "June         539\n",
              "July         539\n",
              "August       539\n",
              "January      535\n",
              "February     535\n",
              "March        534\n",
              "April        534\n",
              "May          533\n",
              "December     513\n",
              "Name: month, dtype: int64"
            ]
          },
          "metadata": {},
          "execution_count": 17
        }
      ]
    },
    {
      "cell_type": "markdown",
      "source": [
        "12. Total number of fires registered."
      ],
      "metadata": {
        "id": "dhigc1f_HhpG"
      }
    },
    {
      "cell_type": "code",
      "source": [
        "fires[\"number\"].sum()"
      ],
      "metadata": {
        "id": "I3sbM2JxHh5u",
        "colab": {
          "base_uri": "https://localhost:8080/"
        },
        "outputId": "f7191efa-9c30-4b18-b970-65cc8d9150e9"
      },
      "execution_count": 18,
      "outputs": [
        {
          "output_type": "execute_result",
          "data": {
            "text/plain": [
              "698437"
            ]
          },
          "metadata": {},
          "execution_count": 18
        }
      ]
    },
    {
      "cell_type": "markdown",
      "source": [
        "13. In which month was the maximum number of forest fires reported?\n",
        "\n",
        "a. You need to create proper stats and showing them with the help of\n",
        "bar plot"
      ],
      "metadata": {
        "id": "NBBmRB3pHiMy"
      }
    },
    {
      "cell_type": "code",
      "source": [
        "month_order = [\"January\", \"February\", \"March\", \"April\", \"May\", \"June\", \"July\", \"August\", \"September\", \"October\", \"November\", \"December\"]\n",
        "fires[\"month\"] = pd.Categorical(fires[\"month\"], categories = month_order, ordered = True)\n",
        "\n",
        "fires_monthly = fires.sort_values(\"month\")\n",
        "fires_monthly = fires_monthly.groupby(\"month\")[\"number\"].sum()\n",
        "\n",
        "month_fire_plot = fires_monthly.plot(kind = \"bar\", figsize = (10, 5))\n",
        "plt.xlabel(\"Month\")\n",
        "plt.ylabel(\"Number of Fires\")\n",
        "plt.title(\"Number of Fires by Month\")\n",
        "for bar in month_fire_plot.containers:\n",
        "    month_fire_plot.bar_label(bar)\n",
        "plt.show()"
      ],
      "metadata": {
        "id": "_Gq3i6BHHikG",
        "colab": {
          "base_uri": "https://localhost:8080/",
          "height": 550
        },
        "outputId": "b342c103-e23f-4988-85cf-841a080e7f08"
      },
      "execution_count": 19,
      "outputs": [
        {
          "output_type": "display_data",
          "data": {
            "text/plain": [
              "<Figure size 1000x500 with 1 Axes>"
            ],
            "image/png": "[encoded data removed]"
          },
          "metadata": {}
        }
      ]
    },
    {
      "cell_type": "markdown",
      "source": [
        "b. Mention in your comment what did you observe"
      ],
      "metadata": {
        "id": "vyVDT5htHoV9"
      }
    },
    {
      "cell_type": "code",
      "source": [
        "# July has the most reported fires at 92,295.\n",
        "# Fires seem to happen the most in the second half of the year. Specifically July-August and October-November see drastically more fires.\n",
        "# There are relatively little fires from February to May."
      ],
      "metadata": {
        "id": "NEWBPdD8Hom_"
      },
      "execution_count": 20,
      "outputs": []
    },
    {
      "cell_type": "markdown",
      "source": [
        "14. In which year was the maximum number of forest fires reported?\n",
        "\n",
        "a. Please visualize your output with barplot"
      ],
      "metadata": {
        "id": "eRzrZfONHsU3"
      }
    },
    {
      "cell_type": "code",
      "source": [
        "fires_yearly = fires.sort_values(\"year\")\n",
        "fires_yearly = fires_yearly.groupby(\"year\")[\"number\"].sum()\n",
        "\n",
        "year_fire_plot = fires_yearly.plot(kind = \"bar\", figsize = (14, 5))\n",
        "plt.xlabel(\"Year\")\n",
        "plt.ylabel(\"Number of Fires\")\n",
        "plt.title(\"Number of Fires by Year\")\n",
        "for bar in year_fire_plot.containers:\n",
        "    year_fire_plot.bar_label(bar)\n",
        "plt.show()"
      ],
      "metadata": {
        "id": "iVRbiQVGHr89",
        "colab": {
          "base_uri": "https://localhost:8080/",
          "height": 476
        },
        "outputId": "89f2989e-ed13-47af-b6d6-f520b32a4fa8"
      },
      "execution_count": 21,
      "outputs": [
        {
          "output_type": "display_data",
          "data": {
            "text/plain": [
              "<Figure size 1400x500 with 1 Axes>"
            ],
            "image/png": "[encoded data removed]"
          },
          "metadata": {}
        }
      ]
    },
    {
      "cell_type": "code",
      "source": [
        "# The year with the most fires was 2003 with 42,737."
      ],
      "metadata": {
        "id": "MEQsby3psw7o"
      },
      "execution_count": 22,
      "outputs": []
    },
    {
      "cell_type": "markdown",
      "source": [
        "15. Which state has the maximum number of forest fires reported?\n",
        "\n",
        "a. Visualization should be there"
      ],
      "metadata": {
        "id": "QsC5LImqHwFJ"
      }
    },
    {
      "cell_type": "code",
      "source": [
        "fires_stately = fires.sort_values(\"state\")\n",
        "fires_stately = fires_stately.groupby(\"state\")[\"number\"].sum()\n",
        "\n",
        "state_fire_plot = fires_stately.plot(kind = \"bar\", figsize = (14, 5))\n",
        "plt.xlabel(\"State\")\n",
        "plt.ylabel(\"Number of Fires\")\n",
        "plt.title(\"Number of Fires by State\")\n",
        "for bar in state_fire_plot.containers:\n",
        "    state_fire_plot.bar_label(bar)\n",
        "plt.show()"
      ],
      "metadata": {
        "id": "oTWFfXjnH2ph",
        "colab": {
          "base_uri": "https://localhost:8080/",
          "height": 538
        },
        "outputId": "07f61a33-3808-4885-d1af-ed7433ecb759"
      },
      "execution_count": 23,
      "outputs": [
        {
          "output_type": "display_data",
          "data": {
            "text/plain": [
              "<Figure size 1400x500 with 1 Axes>"
            ],
            "image/png": "[encoded data removed]"
          },
          "metadata": {}
        }
      ]
    },
    {
      "cell_type": "markdown",
      "source": [
        "16. Find total number of fires were reported in amazonas (state of brazil)\n",
        "\n",
        "a. Add in comment the number of reports"
      ],
      "metadata": {
        "id": "4BgA68ooH3xL"
      }
    },
    {
      "cell_type": "code",
      "source": [
        "fires_stately[\"Amazonas\"]"
      ],
      "metadata": {
        "id": "8qSXRjLRH4BM",
        "colab": {
          "base_uri": "https://localhost:8080/"
        },
        "outputId": "5af8746f-0b8a-47e7-f19e-b5f259e36000"
      },
      "execution_count": 24,
      "outputs": [
        {
          "output_type": "execute_result",
          "data": {
            "text/plain": [
              "30636"
            ]
          },
          "metadata": {},
          "execution_count": 24
        }
      ]
    },
    {
      "cell_type": "markdown",
      "source": [
        "17. Display number of fires were reported in amazon (year-wise)\n",
        "\n",
        "a. Visualize it using barplot after using groupby"
      ],
      "metadata": {
        "id": "BptjHJ7JH4TT"
      }
    },
    {
      "cell_type": "code",
      "source": [],
      "metadata": {
        "id": "gfT_bjphIBwO"
      },
      "execution_count": 24,
      "outputs": []
    },
    {
      "cell_type": "markdown",
      "source": [
        "18. Display number of fires were reported in amazon (day-wise)\n",
        "\n",
        "a. You need to visualize the result using weekdays name"
      ],
      "metadata": {
        "id": "y_yLwixOICFc"
      }
    },
    {
      "cell_type": "code",
      "source": [],
      "metadata": {
        "id": "LtP0ggYAICVa"
      },
      "execution_count": 24,
      "outputs": []
    },
    {
      "cell_type": "markdown",
      "source": [
        "b. Don’t forget to mention your observation in comment"
      ],
      "metadata": {
        "id": "38T4kwfdII3v"
      }
    },
    {
      "cell_type": "code",
      "source": [],
      "metadata": {
        "id": "rw5CnAq1IJMD"
      },
      "execution_count": 24,
      "outputs": []
    },
    {
      "cell_type": "markdown",
      "source": [
        "19. Find the total number of fires reported in 2015 and visualize data\n",
        "based on each ‘month’.\n",
        "\n",
        "a. Showing output with beautiful barplot"
      ],
      "metadata": {
        "id": "eZsh5iURINZ2"
      }
    },
    {
      "cell_type": "code",
      "source": [],
      "metadata": {
        "id": "S2oLD_f3ITIV"
      },
      "execution_count": 24,
      "outputs": []
    },
    {
      "cell_type": "markdown",
      "source": [
        "b. Mention your observation in comment"
      ],
      "metadata": {
        "id": "Iio5CI2uITYO"
      }
    },
    {
      "cell_type": "code",
      "source": [],
      "metadata": {
        "id": "rCsjiyLtIViR"
      },
      "execution_count": 24,
      "outputs": []
    },
    {
      "cell_type": "markdown",
      "source": [
        "20. Find the average number of fires reported from highest to lowest\n",
        "(state-wise).\n",
        "\n",
        "a. Visualization should be there with proper observation"
      ],
      "metadata": {
        "id": "kPdvoESdIV1k"
      }
    },
    {
      "cell_type": "code",
      "source": [],
      "metadata": {
        "id": "0li_XlvFIXds"
      },
      "execution_count": 24,
      "outputs": []
    },
    {
      "cell_type": "markdown",
      "source": [
        "21. To find the state names where fires were reported in 'dec' month."
      ],
      "metadata": {
        "id": "BWecVpTcIX1X"
      }
    },
    {
      "cell_type": "code",
      "source": [],
      "metadata": {
        "id": "CtjEFaPcIacb"
      },
      "execution_count": 24,
      "outputs": []
    }
  ]
}